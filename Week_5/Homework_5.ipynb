{
 "cells": [
  {
   "cell_type": "code",
   "execution_count": 1,
   "id": "5f36653d-ed9b-4883-b20e-1123e0f2429e",
   "metadata": {},
   "outputs": [],
   "source": [
    "import pyspark"
   ]
  },
  {
   "cell_type": "code",
   "execution_count": 2,
   "id": "5061a212-bc71-4d21-a0ab-5d9b67d8fe30",
   "metadata": {},
   "outputs": [],
   "source": [
    "from pyspark.sql import SparkSession"
   ]
  },
  {
   "cell_type": "code",
   "execution_count": 3,
   "id": "f359752b-02a4-474a-9823-475daaf13b12",
   "metadata": {},
   "outputs": [
    {
     "name": "stderr",
     "output_type": "stream",
     "text": [
      "Setting default log level to \"WARN\".\n",
      "To adjust logging level use sc.setLogLevel(newLevel). For SparkR, use setLogLevel(newLevel).\n"
     ]
    },
    {
     "name": "stdout",
     "output_type": "stream",
     "text": [
      "25/03/07 02:57:59 WARN NativeCodeLoader: Unable to load native-hadoop library for your platform... using builtin-java classes where applicable\n",
      "25/03/07 02:58:00 WARN Utils: Service 'SparkUI' could not bind on port 4040. Attempting port 4041.\n",
      "<pyspark.sql.session.SparkSession object at 0x7f5f264fede0>\n"
     ]
    }
   ],
   "source": [
    "spark = SparkSession.builder \\\n",
    "    .master(\"local[*]\") \\\n",
    "    .appName('test') \\\n",
    "    .getOrCreate()\n",
    "print(spark)"
   ]
  },
  {
   "cell_type": "code",
   "execution_count": 4,
   "id": "bd816f30-a32b-437f-93f7-4b79c469f85d",
   "metadata": {},
   "outputs": [
    {
     "name": "stderr",
     "output_type": "stream",
     "text": [
      "                                                                                \r"
     ]
    },
    {
     "name": "stdout",
     "output_type": "stream",
     "text": [
      "+--------+--------------------+---------------------+---------------+-------------+----------+------------------+------------+------------+------------+-----------+-----+-------+----------+------------+---------------------+------------+--------------------+-----------+\n",
      "|VendorID|tpep_pickup_datetime|tpep_dropoff_datetime|passenger_count|trip_distance|RatecodeID|store_and_fwd_flag|PULocationID|DOLocationID|payment_type|fare_amount|extra|mta_tax|tip_amount|tolls_amount|improvement_surcharge|total_amount|congestion_surcharge|Airport_fee|\n",
      "+--------+--------------------+---------------------+---------------+-------------+----------+------------------+------------+------------+------------+-----------+-----+-------+----------+------------+---------------------+------------+--------------------+-----------+\n",
      "|       2| 2024-10-01 00:30:44|  2024-10-01 00:48:26|              1|          3.0|         1|                 N|         162|         246|           1|       18.4|  1.0|    0.5|       1.5|         0.0|                  1.0|        24.9|                 2.5|        0.0|\n",
      "+--------+--------------------+---------------------+---------------+-------------+----------+------------------+------------+------------+------------+-----------+-----+-------+----------+------------+---------------------+------------+--------------------+-----------+\n",
      "only showing top 1 row\n",
      "\n"
     ]
    }
   ],
   "source": [
    "df = spark.read.parquet(('yellow_tripdata_2024-10.parquet'), header=True)\n",
    "\n",
    "df.show(1)"
   ]
  },
  {
   "cell_type": "markdown",
   "id": "5d3b2d1f-5c50-4fb3-b12d-035b4798ee22",
   "metadata": {},
   "source": [
    "Q1\n",
    "Answer - 3.3.2"
   ]
  },
  {
   "cell_type": "code",
   "execution_count": 5,
   "id": "c5ccecb4-c35a-4dd5-ad79-93958335f6c5",
   "metadata": {},
   "outputs": [
    {
     "data": {
      "text/plain": [
       "'3.3.2'"
      ]
     },
     "execution_count": 5,
     "metadata": {},
     "output_type": "execute_result"
    }
   ],
   "source": [
    "spark.version"
   ]
  },
  {
   "cell_type": "markdown",
   "id": "3b45e6e2-6e02-40f0-8276-66f753def709",
   "metadata": {},
   "source": [
    "Q2\n",
    "Answer - 25MB"
   ]
  },
  {
   "cell_type": "code",
   "execution_count": 6,
   "id": "d689d6dd-ced2-42ab-8385-021ed168e86a",
   "metadata": {},
   "outputs": [],
   "source": [
    "# Repartition Dataframe to 4 partitions and save it to parquet.\n",
    "df = df.repartition(4)\n",
    "     \n"
   ]
  },
  {
   "cell_type": "code",
   "execution_count": 7,
   "id": "696c829a-6f52-4e13-b79c-565c4046f3a9",
   "metadata": {},
   "outputs": [
    {
     "name": "stderr",
     "output_type": "stream",
     "text": [
      "                                                                                \r"
     ]
    }
   ],
   "source": [
    "df.write.parquet('yellow_trip_4_partitions', mode='overwrite')"
   ]
  },
  {
   "cell_type": "code",
   "execution_count": 8,
   "id": "dd067009-328e-429d-b8c7-1897fde40dd4",
   "metadata": {},
   "outputs": [
    {
     "name": "stdout",
     "output_type": "stream",
     "text": [
      "total 97M\n",
      "-rw-r--r-- 1 ars ars   0 Mar  7 02:58 _SUCCESS\n",
      "-rw-r--r-- 1 ars ars 25M Mar  7 02:58 part-00000-de7bf1e5-6cac-476c-b99d-2470180f103a-c000.snappy.parquet\n",
      "-rw-r--r-- 1 ars ars 25M Mar  7 02:58 part-00001-de7bf1e5-6cac-476c-b99d-2470180f103a-c000.snappy.parquet\n",
      "-rw-r--r-- 1 ars ars 25M Mar  7 02:58 part-00002-de7bf1e5-6cac-476c-b99d-2470180f103a-c000.snappy.parquet\n",
      "-rw-r--r-- 1 ars ars 25M Mar  7 02:58 part-00003-de7bf1e5-6cac-476c-b99d-2470180f103a-c000.snappy.parquet\n"
     ]
    }
   ],
   "source": [
    "!ls -lh yellow_trip_4_partitions/"
   ]
  },
  {
   "cell_type": "code",
   "execution_count": 9,
   "id": "cfedbfe7-3c68-4634-b7c5-0dbd48a3179c",
   "metadata": {},
   "outputs": [
    {
     "name": "stdout",
     "output_type": "stream",
     "text": [
      "root\n",
      " |-- VendorID: integer (nullable = true)\n",
      " |-- tpep_pickup_datetime: timestamp (nullable = true)\n",
      " |-- tpep_dropoff_datetime: timestamp (nullable = true)\n",
      " |-- passenger_count: long (nullable = true)\n",
      " |-- trip_distance: double (nullable = true)\n",
      " |-- RatecodeID: long (nullable = true)\n",
      " |-- store_and_fwd_flag: string (nullable = true)\n",
      " |-- PULocationID: integer (nullable = true)\n",
      " |-- DOLocationID: integer (nullable = true)\n",
      " |-- payment_type: long (nullable = true)\n",
      " |-- fare_amount: double (nullable = true)\n",
      " |-- extra: double (nullable = true)\n",
      " |-- mta_tax: double (nullable = true)\n",
      " |-- tip_amount: double (nullable = true)\n",
      " |-- tolls_amount: double (nullable = true)\n",
      " |-- improvement_surcharge: double (nullable = true)\n",
      " |-- total_amount: double (nullable = true)\n",
      " |-- congestion_surcharge: double (nullable = true)\n",
      " |-- Airport_fee: double (nullable = true)\n",
      "\n"
     ]
    }
   ],
   "source": [
    "df.printSchema()"
   ]
  },
  {
   "cell_type": "markdown",
   "id": "404d03b1-6ea7-4f43-a849-8837f614cad8",
   "metadata": {},
   "source": [
    "Q3\n",
    "Answer - 125,567 (closer to 128893 which i get from query below)"
   ]
  },
  {
   "cell_type": "code",
   "execution_count": 10,
   "id": "04fd8909-7597-49c9-b004-62f2b98b8dc2",
   "metadata": {},
   "outputs": [],
   "source": [
    "df.createOrReplaceTempView('yellow')"
   ]
  },
  {
   "cell_type": "code",
   "execution_count": 11,
   "id": "fdac5a9c-d96d-4ed1-aeef-9c7c7f931af1",
   "metadata": {},
   "outputs": [
    {
     "name": "stderr",
     "output_type": "stream",
     "text": [
      "[Stage 5:=============================>                             (2 + 2) / 4]\r"
     ]
    },
    {
     "name": "stdout",
     "output_type": "stream",
     "text": [
      "+--------+\n",
      "|count(1)|\n",
      "+--------+\n",
      "|  128893|\n",
      "+--------+\n",
      "\n"
     ]
    },
    {
     "name": "stderr",
     "output_type": "stream",
     "text": [
      "                                                                                \r"
     ]
    }
   ],
   "source": [
    "spark.sql(\"\"\"\n",
    "SELECT \n",
    "    count(*)\n",
    "FROM \n",
    "    yellow\n",
    "WHERE \n",
    "    CAST(tpep_pickup_datetime as date) = '2024-10-15'\n",
    "\"\"\").show()"
   ]
  },
  {
   "cell_type": "markdown",
   "id": "de54b1aa-6f75-4c42-805e-079a91685b22",
   "metadata": {},
   "source": [
    "Q4\n",
    "Answer - 162"
   ]
  },
  {
   "cell_type": "code",
   "execution_count": 12,
   "id": "330a7f93-3267-42c9-a817-79eb15b6e8cf",
   "metadata": {},
   "outputs": [
    {
     "name": "stderr",
     "output_type": "stream",
     "text": [
      "[Stage 13:>                                                         (0 + 4) / 4]\r"
     ]
    },
    {
     "name": "stdout",
     "output_type": "stream",
     "text": [
      "+----------------+\n",
      "|whole_hours_diff|\n",
      "+----------------+\n",
      "|             162|\n",
      "+----------------+\n",
      "\n"
     ]
    },
    {
     "name": "stderr",
     "output_type": "stream",
     "text": [
      "                                                                                \r"
     ]
    }
   ],
   "source": [
    "spark.sql(\"\"\"\n",
    "SELECT \n",
    "    TIMESTAMPDIFF(HOUR, tpep_pickup_datetime, tpep_dropoff_datetime) AS whole_hours_diff\n",
    "FROM \n",
    "    yellow\n",
    "WHERE \n",
    "    1=1\n",
    "ORDER BY whole_hours_diff desc\n",
    "LIMIT 1\n",
    "\"\"\").show()"
   ]
  },
  {
   "cell_type": "markdown",
   "id": "da371787-e95b-44b3-b353-e3a5a378362b",
   "metadata": {},
   "source": [
    "Q5\n",
    "Answer - 4040"
   ]
  },
  {
   "cell_type": "markdown",
   "id": "efd59d02-ba5b-4020-820e-f6894ce36b73",
   "metadata": {},
   "source": [
    "--Monitoring\n",
    "https://spark.apache.org/docs/3.5.4/cluster-overview.html"
   ]
  },
  {
   "cell_type": "markdown",
   "id": "282c5290-ec82-43c4-989e-4b341339fe16",
   "metadata": {},
   "source": [
    "Q6\n",
    "Answer - Governor's Island/Ellis Island/Liberty Island"
   ]
  },
  {
   "cell_type": "code",
   "execution_count": 13,
   "id": "0fe16875-8695-41a7-9f56-27b1a79b8bbd",
   "metadata": {},
   "outputs": [],
   "source": [
    "df_lookup = spark.read.csv(('taxi_zone_lookup.csv'), header=True, inferSchema = True)"
   ]
  },
  {
   "cell_type": "code",
   "execution_count": 14,
   "id": "0eeef3ba-a650-4fe3-8c53-173143cc6043",
   "metadata": {},
   "outputs": [
    {
     "name": "stdout",
     "output_type": "stream",
     "text": [
      "+----------+-------------+--------------------+------------+\n",
      "|LocationID|      Borough|                Zone|service_zone|\n",
      "+----------+-------------+--------------------+------------+\n",
      "|         1|          EWR|      Newark Airport|         EWR|\n",
      "|         2|       Queens|         Jamaica Bay|   Boro Zone|\n",
      "|         3|        Bronx|Allerton/Pelham G...|   Boro Zone|\n",
      "|         4|    Manhattan|       Alphabet City| Yellow Zone|\n",
      "|         5|Staten Island|       Arden Heights|   Boro Zone|\n",
      "+----------+-------------+--------------------+------------+\n",
      "only showing top 5 rows\n",
      "\n"
     ]
    }
   ],
   "source": [
    "df_lookup.show(5)"
   ]
  },
  {
   "cell_type": "code",
   "execution_count": 15,
   "id": "a5d5bc65-54a1-43a3-a257-d5dc9516bf5b",
   "metadata": {},
   "outputs": [
    {
     "name": "stdout",
     "output_type": "stream",
     "text": [
      "root\n",
      " |-- LocationID: integer (nullable = true)\n",
      " |-- Borough: string (nullable = true)\n",
      " |-- Zone: string (nullable = true)\n",
      " |-- service_zone: string (nullable = true)\n",
      "\n"
     ]
    }
   ],
   "source": [
    "df_lookup.printSchema()"
   ]
  },
  {
   "cell_type": "code",
   "execution_count": 16,
   "id": "5659a0c4-4870-4601-97bb-1f182f70f50e",
   "metadata": {},
   "outputs": [],
   "source": [
    "df_lookup.createOrReplaceTempView('zones')"
   ]
  },
  {
   "cell_type": "code",
   "execution_count": 17,
   "id": "572f87f9-166a-4708-81d8-519ccdba33b5",
   "metadata": {},
   "outputs": [
    {
     "name": "stderr",
     "output_type": "stream",
     "text": [
      "[Stage 21:>                                                         (0 + 4) / 4]\r"
     ]
    },
    {
     "name": "stdout",
     "output_type": "stream",
     "text": [
      "+--------------------+----------+\n",
      "|                Zone|trip_count|\n",
      "+--------------------+----------+\n",
      "|Governor's Island...|         1|\n",
      "+--------------------+----------+\n",
      "\n"
     ]
    },
    {
     "name": "stderr",
     "output_type": "stream",
     "text": [
      "                                                                                \r"
     ]
    }
   ],
   "source": [
    "spark.sql(\"\"\"\n",
    "SELECT \n",
    "    z.Zone,\n",
    "    COUNT(*) as trip_count\n",
    "FROM \n",
    "    yellow y\n",
    "JOIN \n",
    "    zones z\n",
    "ON \n",
    "    y.PULocationID = z.LocationID\n",
    "GROUP BY \n",
    "    z.Zone\n",
    "ORDER BY\n",
    "    trip_count ASC\n",
    "LIMIT \n",
    "    1\n",
    "\"\"\").show()"
   ]
  }
 ],
 "metadata": {
  "kernelspec": {
   "display_name": "Python 3 (ipykernel)",
   "language": "python",
   "name": "python3"
  },
  "language_info": {
   "codemirror_mode": {
    "name": "ipython",
    "version": 3
   },
   "file_extension": ".py",
   "mimetype": "text/x-python",
   "name": "python",
   "nbconvert_exporter": "python",
   "pygments_lexer": "ipython3",
   "version": "3.12.7"
  }
 },
 "nbformat": 4,
 "nbformat_minor": 5
}
